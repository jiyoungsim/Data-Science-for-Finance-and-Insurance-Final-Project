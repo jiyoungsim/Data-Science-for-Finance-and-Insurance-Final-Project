{
 "cells": [
  {
   "cell_type": "code",
   "execution_count": null,
   "metadata": {},
   "outputs": [],
   "source": [
    "# PS5841 Data Science in Finance and Insurance HW2\n",
    "# Young Sim, js5134"
   ]
  },
  {
   "cell_type": "code",
   "execution_count": 53,
   "metadata": {},
   "outputs": [],
   "source": [
    "# import modules\n",
    "import numpy as np\n",
    "import pandas as pd\n",
    "import matplotlib as mpl\n",
    "import matplotlib.pyplot as plt\n",
    "import scipy.stats as stats"
   ]
  },
  {
   "cell_type": "code",
   "execution_count": 54,
   "metadata": {},
   "outputs": [],
   "source": [
    "###########################################################################################################################\n",
    "# Be aware not to change the original name of files when read them.                                                       #\n",
    "# Also upload files to the root directory of Jupyter Notebook so that you may read them without specifying the address.   #\n",
    "# Do not be scared by the number of problems; each step is easy. Have fun!                                                #\n",
    "###########################################################################################################################"
   ]
  },
  {
   "cell_type": "code",
   "execution_count": 55,
   "metadata": {},
   "outputs": [],
   "source": [
    "# Question 1\n",
    "\n",
    "#A multiIndexed Series is created as following\n",
    "letters = ['A','B','C']\n",
    "numbers = list(range(10))\n",
    "\n",
    "mi = pd.MultiIndex.from_product([letters, numbers])\n",
    "s = pd.Series(np.random.rand(30), index=mi)"
   ]
  },
  {
   "cell_type": "code",
   "execution_count": 56,
   "metadata": {},
   "outputs": [
    {
     "data": {
      "text/plain": [
       "True"
      ]
     },
     "execution_count": 56,
     "metadata": {},
     "output_type": "execute_result"
    }
   ],
   "source": [
    "# Question 1.1\n",
    " \n",
    "# Your Code here.\n",
    "\n",
    "# Check the index of s is lexicographically sorted \n",
    "s.index.is_lexsorted()"
   ]
  },
  {
   "cell_type": "code",
   "execution_count": 57,
   "metadata": {},
   "outputs": [
    {
     "data": {
      "text/plain": [
       "A  1    0.618104\n",
       "   3    0.160035\n",
       "   6    0.176362\n",
       "B  1    0.435835\n",
       "   3    0.806822\n",
       "   6    0.420475\n",
       "C  1    0.563872\n",
       "   3    0.575851\n",
       "   6    0.537941\n",
       "dtype: float64"
      ]
     },
     "execution_count": 57,
     "metadata": {},
     "output_type": "execute_result"
    }
   ],
   "source": [
    "# Question 1.2\n",
    "\n",
    "# Your Code here.\n",
    "\n",
    "# Select the labels 1, 3 and 6 from the second level\n",
    "s.loc[:,[1,3,6]]"
   ]
  },
  {
   "cell_type": "code",
   "execution_count": 58,
   "metadata": {},
   "outputs": [
    {
     "data": {
      "text/plain": [
       "A  5    0.894271\n",
       "   6    0.176362\n",
       "   7    0.837092\n",
       "   8    0.464201\n",
       "   9    0.771860\n",
       "B  5    0.999803\n",
       "   6    0.420475\n",
       "   7    0.938449\n",
       "   8    0.755459\n",
       "   9    0.839914\n",
       "dtype: float64"
      ]
     },
     "execution_count": 58,
     "metadata": {},
     "output_type": "execute_result"
    }
   ],
   "source": [
    "# Question 1.3\n",
    "\n",
    "# Your Code here.\n",
    "\n",
    "# Slice the Series s\n",
    "new_s = s.loc[pd.IndexSlice[:'B', 5:]]\n",
    "new_s"
   ]
  },
  {
   "cell_type": "code",
   "execution_count": 59,
   "metadata": {},
   "outputs": [
    {
     "data": {
      "text/plain": [
       "5  A    0.894271\n",
       "6  A    0.176362\n",
       "7  A    0.837092\n",
       "8  A    0.464201\n",
       "9  A    0.771860\n",
       "5  B    0.999803\n",
       "6  B    0.420475\n",
       "7  B    0.938449\n",
       "8  B    0.755459\n",
       "9  B    0.839914\n",
       "dtype: float64"
      ]
     },
     "execution_count": 59,
     "metadata": {},
     "output_type": "execute_result"
    }
   ],
   "source": [
    "# Question 1.4\n",
    "\n",
    "# Your Code here.\n",
    "\n",
    "# Exchange the levels of the MultiIndex \n",
    "new_s = new_s.swaplevel(0, 1)\n",
    "new_s"
   ]
  },
  {
   "cell_type": "code",
   "execution_count": 60,
   "metadata": {},
   "outputs": [
    {
     "data": {
      "text/plain": [
       "False"
      ]
     },
     "execution_count": 60,
     "metadata": {},
     "output_type": "execute_result"
    }
   ],
   "source": [
    "# Check if the new Series is lexsorted\n",
    "new_s.index.is_lexsorted()"
   ]
  },
  {
   "cell_type": "code",
   "execution_count": 61,
   "metadata": {},
   "outputs": [
    {
     "data": {
      "text/plain": [
       "True"
      ]
     },
     "execution_count": 61,
     "metadata": {},
     "output_type": "execute_result"
    }
   ],
   "source": [
    "# Lexsort the new Series\n",
    "new_s = new_s.sort_index()\n",
    "new_s.index.is_lexsorted()"
   ]
  },
  {
   "cell_type": "code",
   "execution_count": 62,
   "metadata": {},
   "outputs": [
    {
     "data": {
      "text/plain": [
       "5  A    0.894271\n",
       "   B    0.999803\n",
       "6  A    0.176362\n",
       "   B    0.420475\n",
       "7  A    0.837092\n",
       "   B    0.938449\n",
       "8  A    0.464201\n",
       "   B    0.755459\n",
       "9  A    0.771860\n",
       "   B    0.839914\n",
       "dtype: float64"
      ]
     },
     "execution_count": 62,
     "metadata": {},
     "output_type": "execute_result"
    }
   ],
   "source": [
    "# Check the result\n",
    "new_s"
   ]
  },
  {
   "cell_type": "code",
   "execution_count": 63,
   "metadata": {},
   "outputs": [
    {
     "data": {
      "text/html": [
       "<div>\n",
       "<style scoped>\n",
       "    .dataframe tbody tr th:only-of-type {\n",
       "        vertical-align: middle;\n",
       "    }\n",
       "\n",
       "    .dataframe tbody tr th {\n",
       "        vertical-align: top;\n",
       "    }\n",
       "\n",
       "    .dataframe thead th {\n",
       "        text-align: right;\n",
       "    }\n",
       "</style>\n",
       "<table border=\"1\" class=\"dataframe\">\n",
       "  <thead>\n",
       "    <tr style=\"text-align: right;\">\n",
       "      <th></th>\n",
       "      <th>From_To</th>\n",
       "      <th>FlightNumber</th>\n",
       "      <th>RecentDelays</th>\n",
       "      <th>Airline</th>\n",
       "    </tr>\n",
       "  </thead>\n",
       "  <tbody>\n",
       "    <tr>\n",
       "      <th>0</th>\n",
       "      <td>LoNDon_paris</td>\n",
       "      <td>10045.0</td>\n",
       "      <td>[23, 47]</td>\n",
       "      <td>KLM(!)</td>\n",
       "    </tr>\n",
       "    <tr>\n",
       "      <th>1</th>\n",
       "      <td>MAdrid_miLAN</td>\n",
       "      <td>NaN</td>\n",
       "      <td>[]</td>\n",
       "      <td>&lt;Air France&gt; (12)</td>\n",
       "    </tr>\n",
       "    <tr>\n",
       "      <th>2</th>\n",
       "      <td>londON_StockhOlm</td>\n",
       "      <td>10065.0</td>\n",
       "      <td>[24, 43, 87]</td>\n",
       "      <td>(British Airways. )</td>\n",
       "    </tr>\n",
       "    <tr>\n",
       "      <th>3</th>\n",
       "      <td>Budapest_PaRis</td>\n",
       "      <td>NaN</td>\n",
       "      <td>[13]</td>\n",
       "      <td>12. Air France</td>\n",
       "    </tr>\n",
       "    <tr>\n",
       "      <th>4</th>\n",
       "      <td>Brussels_londOn</td>\n",
       "      <td>10085.0</td>\n",
       "      <td>[67, 32]</td>\n",
       "      <td>\"Swiss Air\"</td>\n",
       "    </tr>\n",
       "  </tbody>\n",
       "</table>\n",
       "</div>"
      ],
      "text/plain": [
       "            From_To  FlightNumber  RecentDelays              Airline\n",
       "0      LoNDon_paris       10045.0      [23, 47]               KLM(!)\n",
       "1      MAdrid_miLAN           NaN            []    <Air France> (12)\n",
       "2  londON_StockhOlm       10065.0  [24, 43, 87]  (British Airways. )\n",
       "3    Budapest_PaRis           NaN          [13]       12. Air France\n",
       "4   Brussels_londOn       10085.0      [67, 32]          \"Swiss Air\""
      ]
     },
     "execution_count": 63,
     "metadata": {},
     "output_type": "execute_result"
    }
   ],
   "source": [
    "# Question 2\n",
    "# A DataFrame object is created as following \n",
    "df = pd.DataFrame({'From_To': ['LoNDon_paris', 'MAdrid_miLAN', 'londON_StockhOlm', 'Budapest_PaRis', 'Brussels_londOn'], 'FlightNumber': [10045, np.nan, 10065, np.nan, 10085], 'RecentDelays': [[23, 47], [], [24, 43, 87], [13], [67, 32]], 'Airline': ['KLM(!)', '<Air France> (12)', '(British Airways. )', '12. Air France', '\"Swiss Air\"']})\n",
    "df"
   ]
  },
  {
   "cell_type": "code",
   "execution_count": 64,
   "metadata": {},
   "outputs": [
    {
     "data": {
      "text/html": [
       "<div>\n",
       "<style scoped>\n",
       "    .dataframe tbody tr th:only-of-type {\n",
       "        vertical-align: middle;\n",
       "    }\n",
       "\n",
       "    .dataframe tbody tr th {\n",
       "        vertical-align: top;\n",
       "    }\n",
       "\n",
       "    .dataframe thead th {\n",
       "        text-align: right;\n",
       "    }\n",
       "</style>\n",
       "<table border=\"1\" class=\"dataframe\">\n",
       "  <thead>\n",
       "    <tr style=\"text-align: right;\">\n",
       "      <th></th>\n",
       "      <th>From_To</th>\n",
       "      <th>FlightNumber</th>\n",
       "      <th>RecentDelays</th>\n",
       "      <th>Airline</th>\n",
       "    </tr>\n",
       "  </thead>\n",
       "  <tbody>\n",
       "    <tr>\n",
       "      <th>0</th>\n",
       "      <td>LoNDon_paris</td>\n",
       "      <td>10045</td>\n",
       "      <td>[23, 47]</td>\n",
       "      <td>KLM(!)</td>\n",
       "    </tr>\n",
       "    <tr>\n",
       "      <th>1</th>\n",
       "      <td>MAdrid_miLAN</td>\n",
       "      <td>10055</td>\n",
       "      <td>[]</td>\n",
       "      <td>&lt;Air France&gt; (12)</td>\n",
       "    </tr>\n",
       "    <tr>\n",
       "      <th>2</th>\n",
       "      <td>londON_StockhOlm</td>\n",
       "      <td>10065</td>\n",
       "      <td>[24, 43, 87]</td>\n",
       "      <td>(British Airways. )</td>\n",
       "    </tr>\n",
       "    <tr>\n",
       "      <th>3</th>\n",
       "      <td>Budapest_PaRis</td>\n",
       "      <td>10075</td>\n",
       "      <td>[13]</td>\n",
       "      <td>12. Air France</td>\n",
       "    </tr>\n",
       "    <tr>\n",
       "      <th>4</th>\n",
       "      <td>Brussels_londOn</td>\n",
       "      <td>10085</td>\n",
       "      <td>[67, 32]</td>\n",
       "      <td>\"Swiss Air\"</td>\n",
       "    </tr>\n",
       "  </tbody>\n",
       "</table>\n",
       "</div>"
      ],
      "text/plain": [
       "            From_To  FlightNumber  RecentDelays              Airline\n",
       "0      LoNDon_paris         10045      [23, 47]               KLM(!)\n",
       "1      MAdrid_miLAN         10055            []    <Air France> (12)\n",
       "2  londON_StockhOlm         10065  [24, 43, 87]  (British Airways. )\n",
       "3    Budapest_PaRis         10075          [13]       12. Air France\n",
       "4   Brussels_londOn         10085      [67, 32]          \"Swiss Air\""
      ]
     },
     "execution_count": 64,
     "metadata": {},
     "output_type": "execute_result"
    }
   ],
   "source": [
    "# Question 2.1\n",
    "\n",
    "# Your Code here.\n",
    "\n",
    "# Fill in these missing numbers and make the column an integer column\n",
    "df['FlightNumber'] = df['FlightNumber'].interpolate().astype(int)\n",
    "df"
   ]
  },
  {
   "cell_type": "code",
   "execution_count": 65,
   "metadata": {},
   "outputs": [
    {
     "data": {
      "text/html": [
       "<div>\n",
       "<style scoped>\n",
       "    .dataframe tbody tr th:only-of-type {\n",
       "        vertical-align: middle;\n",
       "    }\n",
       "\n",
       "    .dataframe tbody tr th {\n",
       "        vertical-align: top;\n",
       "    }\n",
       "\n",
       "    .dataframe thead th {\n",
       "        text-align: right;\n",
       "    }\n",
       "</style>\n",
       "<table border=\"1\" class=\"dataframe\">\n",
       "  <thead>\n",
       "    <tr style=\"text-align: right;\">\n",
       "      <th></th>\n",
       "      <th>from</th>\n",
       "      <th>to</th>\n",
       "    </tr>\n",
       "  </thead>\n",
       "  <tbody>\n",
       "    <tr>\n",
       "      <th>0</th>\n",
       "      <td>LoNDon</td>\n",
       "      <td>paris</td>\n",
       "    </tr>\n",
       "    <tr>\n",
       "      <th>1</th>\n",
       "      <td>MAdrid</td>\n",
       "      <td>miLAN</td>\n",
       "    </tr>\n",
       "    <tr>\n",
       "      <th>2</th>\n",
       "      <td>londON</td>\n",
       "      <td>StockhOlm</td>\n",
       "    </tr>\n",
       "    <tr>\n",
       "      <th>3</th>\n",
       "      <td>Budapest</td>\n",
       "      <td>PaRis</td>\n",
       "    </tr>\n",
       "    <tr>\n",
       "      <th>4</th>\n",
       "      <td>Brussels</td>\n",
       "      <td>londOn</td>\n",
       "    </tr>\n",
       "  </tbody>\n",
       "</table>\n",
       "</div>"
      ],
      "text/plain": [
       "       from         to\n",
       "0    LoNDon      paris\n",
       "1    MAdrid      miLAN\n",
       "2    londON  StockhOlm\n",
       "3  Budapest      PaRis\n",
       "4  Brussels     londOn"
      ]
     },
     "execution_count": 65,
     "metadata": {},
     "output_type": "execute_result"
    }
   ],
   "source": [
    "# Question 2.2\n",
    "\n",
    "# Your Code here.\n",
    "\n",
    "# Split each string on '_' to give a new temporary DataFrame with the correct values\n",
    "temp = df['From_To'].str.split('_',expand=True)\n",
    "temp.columns = ['from','to']\n",
    "temp"
   ]
  },
  {
   "cell_type": "code",
   "execution_count": 66,
   "metadata": {},
   "outputs": [
    {
     "data": {
      "text/html": [
       "<div>\n",
       "<style scoped>\n",
       "    .dataframe tbody tr th:only-of-type {\n",
       "        vertical-align: middle;\n",
       "    }\n",
       "\n",
       "    .dataframe tbody tr th {\n",
       "        vertical-align: top;\n",
       "    }\n",
       "\n",
       "    .dataframe thead th {\n",
       "        text-align: right;\n",
       "    }\n",
       "</style>\n",
       "<table border=\"1\" class=\"dataframe\">\n",
       "  <thead>\n",
       "    <tr style=\"text-align: right;\">\n",
       "      <th></th>\n",
       "      <th>from</th>\n",
       "      <th>to</th>\n",
       "    </tr>\n",
       "  </thead>\n",
       "  <tbody>\n",
       "    <tr>\n",
       "      <th>0</th>\n",
       "      <td>London</td>\n",
       "      <td>Paris</td>\n",
       "    </tr>\n",
       "    <tr>\n",
       "      <th>1</th>\n",
       "      <td>Madrid</td>\n",
       "      <td>Milan</td>\n",
       "    </tr>\n",
       "    <tr>\n",
       "      <th>2</th>\n",
       "      <td>London</td>\n",
       "      <td>Stockholm</td>\n",
       "    </tr>\n",
       "    <tr>\n",
       "      <th>3</th>\n",
       "      <td>Budapest</td>\n",
       "      <td>Paris</td>\n",
       "    </tr>\n",
       "    <tr>\n",
       "      <th>4</th>\n",
       "      <td>Brussels</td>\n",
       "      <td>London</td>\n",
       "    </tr>\n",
       "  </tbody>\n",
       "</table>\n",
       "</div>"
      ],
      "text/plain": [
       "       from         to\n",
       "0    London      Paris\n",
       "1    Madrid      Milan\n",
       "2    London  Stockholm\n",
       "3  Budapest      Paris\n",
       "4  Brussels     London"
      ]
     },
     "execution_count": 66,
     "metadata": {},
     "output_type": "execute_result"
    }
   ],
   "source": [
    "# Question 2.3\n",
    "\n",
    "# Your Code here.\n",
    "\n",
    "# Standardize the strings so that only the first letter is uppercase\n",
    "temp['from'] = temp['from'].str.title()\n",
    "temp['to'] = temp['to'].str.title()\n",
    "temp"
   ]
  },
  {
   "cell_type": "code",
   "execution_count": 67,
   "metadata": {},
   "outputs": [
    {
     "data": {
      "text/html": [
       "<div>\n",
       "<style scoped>\n",
       "    .dataframe tbody tr th:only-of-type {\n",
       "        vertical-align: middle;\n",
       "    }\n",
       "\n",
       "    .dataframe tbody tr th {\n",
       "        vertical-align: top;\n",
       "    }\n",
       "\n",
       "    .dataframe thead th {\n",
       "        text-align: right;\n",
       "    }\n",
       "</style>\n",
       "<table border=\"1\" class=\"dataframe\">\n",
       "  <thead>\n",
       "    <tr style=\"text-align: right;\">\n",
       "      <th></th>\n",
       "      <th>FlightNumber</th>\n",
       "      <th>RecentDelays</th>\n",
       "      <th>Airline</th>\n",
       "      <th>from</th>\n",
       "      <th>to</th>\n",
       "    </tr>\n",
       "  </thead>\n",
       "  <tbody>\n",
       "    <tr>\n",
       "      <th>0</th>\n",
       "      <td>10045</td>\n",
       "      <td>[23, 47]</td>\n",
       "      <td>KLM(!)</td>\n",
       "      <td>London</td>\n",
       "      <td>Paris</td>\n",
       "    </tr>\n",
       "    <tr>\n",
       "      <th>1</th>\n",
       "      <td>10055</td>\n",
       "      <td>[]</td>\n",
       "      <td>&lt;Air France&gt; (12)</td>\n",
       "      <td>Madrid</td>\n",
       "      <td>Milan</td>\n",
       "    </tr>\n",
       "    <tr>\n",
       "      <th>2</th>\n",
       "      <td>10065</td>\n",
       "      <td>[24, 43, 87]</td>\n",
       "      <td>(British Airways. )</td>\n",
       "      <td>London</td>\n",
       "      <td>Stockholm</td>\n",
       "    </tr>\n",
       "    <tr>\n",
       "      <th>3</th>\n",
       "      <td>10075</td>\n",
       "      <td>[13]</td>\n",
       "      <td>12. Air France</td>\n",
       "      <td>Budapest</td>\n",
       "      <td>Paris</td>\n",
       "    </tr>\n",
       "    <tr>\n",
       "      <th>4</th>\n",
       "      <td>10085</td>\n",
       "      <td>[67, 32]</td>\n",
       "      <td>\"Swiss Air\"</td>\n",
       "      <td>Brussels</td>\n",
       "      <td>London</td>\n",
       "    </tr>\n",
       "  </tbody>\n",
       "</table>\n",
       "</div>"
      ],
      "text/plain": [
       "   FlightNumber  RecentDelays              Airline      from         to\n",
       "0         10045      [23, 47]               KLM(!)    London      Paris\n",
       "1         10055            []    <Air France> (12)    Madrid      Milan\n",
       "2         10065  [24, 43, 87]  (British Airways. )    London  Stockholm\n",
       "3         10075          [13]       12. Air France  Budapest      Paris\n",
       "4         10085      [67, 32]          \"Swiss Air\"  Brussels     London"
      ]
     },
     "execution_count": 67,
     "metadata": {},
     "output_type": "execute_result"
    }
   ],
   "source": [
    "# Question 2.4\n",
    "\n",
    "# Your Code here.\n",
    "\n",
    "# Delete the From_To column from df and attach the temporary DataFrame\n",
    "df = df.drop('From_To',axis=1)\n",
    "df = df.join(temp)\n",
    "df"
   ]
  },
  {
   "cell_type": "code",
   "execution_count": 68,
   "metadata": {
    "scrolled": true
   },
   "outputs": [
    {
     "data": {
      "text/html": [
       "<div>\n",
       "<style scoped>\n",
       "    .dataframe tbody tr th:only-of-type {\n",
       "        vertical-align: middle;\n",
       "    }\n",
       "\n",
       "    .dataframe tbody tr th {\n",
       "        vertical-align: top;\n",
       "    }\n",
       "\n",
       "    .dataframe thead th {\n",
       "        text-align: right;\n",
       "    }\n",
       "</style>\n",
       "<table border=\"1\" class=\"dataframe\">\n",
       "  <thead>\n",
       "    <tr style=\"text-align: right;\">\n",
       "      <th></th>\n",
       "      <th>FlightNumber</th>\n",
       "      <th>RecentDelays</th>\n",
       "      <th>Airline</th>\n",
       "      <th>from</th>\n",
       "      <th>to</th>\n",
       "    </tr>\n",
       "  </thead>\n",
       "  <tbody>\n",
       "    <tr>\n",
       "      <th>0</th>\n",
       "      <td>10045</td>\n",
       "      <td>[23, 47]</td>\n",
       "      <td>KLM</td>\n",
       "      <td>London</td>\n",
       "      <td>Paris</td>\n",
       "    </tr>\n",
       "    <tr>\n",
       "      <th>1</th>\n",
       "      <td>10055</td>\n",
       "      <td>[]</td>\n",
       "      <td>Air France</td>\n",
       "      <td>Madrid</td>\n",
       "      <td>Milan</td>\n",
       "    </tr>\n",
       "    <tr>\n",
       "      <th>2</th>\n",
       "      <td>10065</td>\n",
       "      <td>[24, 43, 87]</td>\n",
       "      <td>British Airways</td>\n",
       "      <td>London</td>\n",
       "      <td>Stockholm</td>\n",
       "    </tr>\n",
       "    <tr>\n",
       "      <th>3</th>\n",
       "      <td>10075</td>\n",
       "      <td>[13]</td>\n",
       "      <td>Air France</td>\n",
       "      <td>Budapest</td>\n",
       "      <td>Paris</td>\n",
       "    </tr>\n",
       "    <tr>\n",
       "      <th>4</th>\n",
       "      <td>10085</td>\n",
       "      <td>[67, 32]</td>\n",
       "      <td>Swiss Air</td>\n",
       "      <td>Brussels</td>\n",
       "      <td>London</td>\n",
       "    </tr>\n",
       "  </tbody>\n",
       "</table>\n",
       "</div>"
      ],
      "text/plain": [
       "   FlightNumber  RecentDelays          Airline      from         to\n",
       "0         10045      [23, 47]              KLM    London      Paris\n",
       "1         10055            []       Air France    Madrid      Milan\n",
       "2         10065  [24, 43, 87]  British Airways    London  Stockholm\n",
       "3         10075          [13]       Air France  Budapest      Paris\n",
       "4         10085      [67, 32]        Swiss Air  Brussels     London"
      ]
     },
     "execution_count": 68,
     "metadata": {},
     "output_type": "execute_result"
    }
   ],
   "source": [
    "# Question 2.5\n",
    "\n",
    "# Your Code here.\n",
    "\n",
    "# Pull out just the airline name from the 'Airline' column\n",
    "df['Airline'] = df['Airline'].str.extract('([a-zA-Z\\s]+)',expand=False).str.strip()\n",
    "df"
   ]
  },
  {
   "cell_type": "code",
   "execution_count": 69,
   "metadata": {},
   "outputs": [
    {
     "data": {
      "text/html": [
       "<div>\n",
       "<style scoped>\n",
       "    .dataframe tbody tr th:only-of-type {\n",
       "        vertical-align: middle;\n",
       "    }\n",
       "\n",
       "    .dataframe tbody tr th {\n",
       "        vertical-align: top;\n",
       "    }\n",
       "\n",
       "    .dataframe thead th {\n",
       "        text-align: right;\n",
       "    }\n",
       "</style>\n",
       "<table border=\"1\" class=\"dataframe\">\n",
       "  <thead>\n",
       "    <tr style=\"text-align: right;\">\n",
       "      <th></th>\n",
       "      <th>FlightNumber</th>\n",
       "      <th>Airline</th>\n",
       "      <th>from</th>\n",
       "      <th>to</th>\n",
       "      <th>delay_1</th>\n",
       "      <th>delay_2</th>\n",
       "      <th>delay_3</th>\n",
       "    </tr>\n",
       "  </thead>\n",
       "  <tbody>\n",
       "    <tr>\n",
       "      <th>0</th>\n",
       "      <td>10045</td>\n",
       "      <td>KLM</td>\n",
       "      <td>London</td>\n",
       "      <td>Paris</td>\n",
       "      <td>23.0</td>\n",
       "      <td>47.0</td>\n",
       "      <td>NaN</td>\n",
       "    </tr>\n",
       "    <tr>\n",
       "      <th>1</th>\n",
       "      <td>10055</td>\n",
       "      <td>Air France</td>\n",
       "      <td>Madrid</td>\n",
       "      <td>Milan</td>\n",
       "      <td>NaN</td>\n",
       "      <td>NaN</td>\n",
       "      <td>NaN</td>\n",
       "    </tr>\n",
       "    <tr>\n",
       "      <th>2</th>\n",
       "      <td>10065</td>\n",
       "      <td>British Airways</td>\n",
       "      <td>London</td>\n",
       "      <td>Stockholm</td>\n",
       "      <td>24.0</td>\n",
       "      <td>43.0</td>\n",
       "      <td>87.0</td>\n",
       "    </tr>\n",
       "    <tr>\n",
       "      <th>3</th>\n",
       "      <td>10075</td>\n",
       "      <td>Air France</td>\n",
       "      <td>Budapest</td>\n",
       "      <td>Paris</td>\n",
       "      <td>13.0</td>\n",
       "      <td>NaN</td>\n",
       "      <td>NaN</td>\n",
       "    </tr>\n",
       "    <tr>\n",
       "      <th>4</th>\n",
       "      <td>10085</td>\n",
       "      <td>Swiss Air</td>\n",
       "      <td>Brussels</td>\n",
       "      <td>London</td>\n",
       "      <td>67.0</td>\n",
       "      <td>32.0</td>\n",
       "      <td>NaN</td>\n",
       "    </tr>\n",
       "  </tbody>\n",
       "</table>\n",
       "</div>"
      ],
      "text/plain": [
       "   FlightNumber          Airline      from         to  delay_1  delay_2  \\\n",
       "0         10045              KLM    London      Paris     23.0     47.0   \n",
       "1         10055       Air France    Madrid      Milan      NaN      NaN   \n",
       "2         10065  British Airways    London  Stockholm     24.0     43.0   \n",
       "3         10075       Air France  Budapest      Paris     13.0      NaN   \n",
       "4         10085        Swiss Air  Brussels     London     67.0     32.0   \n",
       "\n",
       "   delay_3  \n",
       "0      NaN  \n",
       "1      NaN  \n",
       "2     87.0  \n",
       "3      NaN  \n",
       "4      NaN  "
      ]
     },
     "execution_count": 69,
     "metadata": {},
     "output_type": "execute_result"
    }
   ],
   "source": [
    "# Question 2.6\n",
    "\n",
    "# Your Code here.\n",
    "\n",
    "# Expand the Series of lists into a DataFrame named delays\n",
    "delays = df['RecentDelays'].apply(pd.Series)\n",
    "delays.columns = ['delay_{}'.format(n) for n in range(1, len(delays.columns)+1)]\n",
    "df = df.drop('RecentDelays', axis=1).join(delays)\n",
    "df"
   ]
  },
  {
   "cell_type": "code",
   "execution_count": 70,
   "metadata": {},
   "outputs": [
    {
     "data": {
      "text/html": [
       "<div>\n",
       "<style scoped>\n",
       "    .dataframe tbody tr th:only-of-type {\n",
       "        vertical-align: middle;\n",
       "    }\n",
       "\n",
       "    .dataframe tbody tr th {\n",
       "        vertical-align: top;\n",
       "    }\n",
       "\n",
       "    .dataframe thead th {\n",
       "        text-align: right;\n",
       "    }\n",
       "</style>\n",
       "<table border=\"1\" class=\"dataframe\">\n",
       "  <thead>\n",
       "    <tr style=\"text-align: right;\">\n",
       "      <th></th>\n",
       "      <th>SPY</th>\n",
       "      <th>AIG</th>\n",
       "      <th>AMZN</th>\n",
       "      <th>JPM</th>\n",
       "      <th>F</th>\n",
       "    </tr>\n",
       "    <tr>\n",
       "      <th>Date</th>\n",
       "      <th></th>\n",
       "      <th></th>\n",
       "      <th></th>\n",
       "      <th></th>\n",
       "      <th></th>\n",
       "    </tr>\n",
       "  </thead>\n",
       "  <tbody>\n",
       "    <tr>\n",
       "      <th>2012-12-01</th>\n",
       "      <td>125.531403</td>\n",
       "      <td>32.063709</td>\n",
       "      <td>250.869995</td>\n",
       "      <td>37.132530</td>\n",
       "      <td>9.884076</td>\n",
       "    </tr>\n",
       "    <tr>\n",
       "      <th>2013-01-01</th>\n",
       "      <td>132.893219</td>\n",
       "      <td>34.361767</td>\n",
       "      <td>265.500000</td>\n",
       "      <td>39.733578</td>\n",
       "      <td>9.884076</td>\n",
       "    </tr>\n",
       "    <tr>\n",
       "      <th>2013-02-01</th>\n",
       "      <td>134.588837</td>\n",
       "      <td>34.525253</td>\n",
       "      <td>264.269989</td>\n",
       "      <td>41.596584</td>\n",
       "      <td>9.695443</td>\n",
       "    </tr>\n",
       "    <tr>\n",
       "      <th>2013-03-01</th>\n",
       "      <td>139.080719</td>\n",
       "      <td>35.260994</td>\n",
       "      <td>266.489990</td>\n",
       "      <td>40.355156</td>\n",
       "      <td>10.110636</td>\n",
       "    </tr>\n",
       "    <tr>\n",
       "      <th>2013-04-01</th>\n",
       "      <td>142.383240</td>\n",
       "      <td>37.622627</td>\n",
       "      <td>253.809998</td>\n",
       "      <td>41.673119</td>\n",
       "      <td>10.541202</td>\n",
       "    </tr>\n",
       "  </tbody>\n",
       "</table>\n",
       "</div>"
      ],
      "text/plain": [
       "                   SPY        AIG        AMZN        JPM          F\n",
       "Date                                                               \n",
       "2012-12-01  125.531403  32.063709  250.869995  37.132530   9.884076\n",
       "2013-01-01  132.893219  34.361767  265.500000  39.733578   9.884076\n",
       "2013-02-01  134.588837  34.525253  264.269989  41.596584   9.695443\n",
       "2013-03-01  139.080719  35.260994  266.489990  40.355156  10.110636\n",
       "2013-04-01  142.383240  37.622627  253.809998  41.673119  10.541202"
      ]
     },
     "execution_count": 70,
     "metadata": {},
     "output_type": "execute_result"
    }
   ],
   "source": [
    "# Question 3.2\n",
    "\n",
    "# Your Code here.\n",
    "\n",
    "# Load and clean data\n",
    "spy = pd.read_csv('SPY.csv',index_col='Date',usecols=['Date','Adj Close'])\n",
    "aig = pd.read_csv('AIG.csv',index_col='Date',usecols=['Date','Adj Close'])\n",
    "amzn = pd.read_csv('AMZN.csv',index_col='Date',usecols=['Date','Adj Close'])\n",
    "jpm = pd.read_csv('JPM.csv',index_col='Date',usecols=['Date','Adj Close'])\n",
    "f = pd.read_csv('F.csv',index_col='Date',usecols=['Date','Adj Close'])\n",
    "\n",
    "data = pd.concat([spy,aig,amzn,jpm,f],axis = 1)\n",
    "data.columns = ['SPY','AIG','AMZN','JPM','F']\n",
    "data.head()"
   ]
  },
  {
   "cell_type": "code",
   "execution_count": 71,
   "metadata": {},
   "outputs": [
    {
     "data": {
      "text/html": [
       "<div>\n",
       "<style scoped>\n",
       "    .dataframe tbody tr th:only-of-type {\n",
       "        vertical-align: middle;\n",
       "    }\n",
       "\n",
       "    .dataframe tbody tr th {\n",
       "        vertical-align: top;\n",
       "    }\n",
       "\n",
       "    .dataframe thead th {\n",
       "        text-align: right;\n",
       "    }\n",
       "</style>\n",
       "<table border=\"1\" class=\"dataframe\">\n",
       "  <thead>\n",
       "    <tr style=\"text-align: right;\">\n",
       "      <th></th>\n",
       "      <th>SPY</th>\n",
       "      <th>AIG</th>\n",
       "      <th>AMZN</th>\n",
       "      <th>JPM</th>\n",
       "      <th>F</th>\n",
       "    </tr>\n",
       "    <tr>\n",
       "      <th>Date</th>\n",
       "      <th></th>\n",
       "      <th></th>\n",
       "      <th></th>\n",
       "      <th></th>\n",
       "      <th></th>\n",
       "    </tr>\n",
       "  </thead>\n",
       "  <tbody>\n",
       "    <tr>\n",
       "      <th>2012-12-01</th>\n",
       "      <td>NaN</td>\n",
       "      <td>NaN</td>\n",
       "      <td>NaN</td>\n",
       "      <td>NaN</td>\n",
       "      <td>NaN</td>\n",
       "    </tr>\n",
       "    <tr>\n",
       "      <th>2013-01-01</th>\n",
       "      <td>0.058645</td>\n",
       "      <td>0.071672</td>\n",
       "      <td>0.058317</td>\n",
       "      <td>0.070048</td>\n",
       "      <td>0.000000</td>\n",
       "    </tr>\n",
       "    <tr>\n",
       "      <th>2013-02-01</th>\n",
       "      <td>0.012759</td>\n",
       "      <td>0.004758</td>\n",
       "      <td>-0.004633</td>\n",
       "      <td>0.046887</td>\n",
       "      <td>-0.019085</td>\n",
       "    </tr>\n",
       "    <tr>\n",
       "      <th>2013-03-01</th>\n",
       "      <td>0.033375</td>\n",
       "      <td>0.021310</td>\n",
       "      <td>0.008401</td>\n",
       "      <td>-0.029844</td>\n",
       "      <td>0.042824</td>\n",
       "    </tr>\n",
       "    <tr>\n",
       "      <th>2013-04-01</th>\n",
       "      <td>0.023745</td>\n",
       "      <td>0.066976</td>\n",
       "      <td>-0.047581</td>\n",
       "      <td>0.032659</td>\n",
       "      <td>0.042585</td>\n",
       "    </tr>\n",
       "  </tbody>\n",
       "</table>\n",
       "</div>"
      ],
      "text/plain": [
       "                 SPY       AIG      AMZN       JPM         F\n",
       "Date                                                        \n",
       "2012-12-01       NaN       NaN       NaN       NaN       NaN\n",
       "2013-01-01  0.058645  0.071672  0.058317  0.070048  0.000000\n",
       "2013-02-01  0.012759  0.004758 -0.004633  0.046887 -0.019085\n",
       "2013-03-01  0.033375  0.021310  0.008401 -0.029844  0.042824\n",
       "2013-04-01  0.023745  0.066976 -0.047581  0.032659  0.042585"
      ]
     },
     "execution_count": 71,
     "metadata": {},
     "output_type": "execute_result"
    }
   ],
   "source": [
    "# Question 3.3\n",
    "\n",
    "# Your Code here.\n",
    "\n",
    "# Calculate monthly returns \n",
    "m_returns = data.pct_change()\n",
    "m_returns.head()"
   ]
  },
  {
   "cell_type": "code",
   "execution_count": 72,
   "metadata": {},
   "outputs": [
    {
     "data": {
      "text/html": [
       "<div>\n",
       "<style scoped>\n",
       "    .dataframe tbody tr th:only-of-type {\n",
       "        vertical-align: middle;\n",
       "    }\n",
       "\n",
       "    .dataframe tbody tr th {\n",
       "        vertical-align: top;\n",
       "    }\n",
       "\n",
       "    .dataframe thead th {\n",
       "        text-align: right;\n",
       "    }\n",
       "</style>\n",
       "<table border=\"1\" class=\"dataframe\">\n",
       "  <thead>\n",
       "    <tr style=\"text-align: right;\">\n",
       "      <th></th>\n",
       "      <th>SPY</th>\n",
       "      <th>AIG</th>\n",
       "      <th>AMZN</th>\n",
       "      <th>JPM</th>\n",
       "      <th>F</th>\n",
       "    </tr>\n",
       "    <tr>\n",
       "      <th>Date</th>\n",
       "      <th></th>\n",
       "      <th></th>\n",
       "      <th></th>\n",
       "      <th></th>\n",
       "      <th></th>\n",
       "    </tr>\n",
       "  </thead>\n",
       "  <tbody>\n",
       "    <tr>\n",
       "      <th>2012-12-01</th>\n",
       "      <td>NaN</td>\n",
       "      <td>NaN</td>\n",
       "      <td>NaN</td>\n",
       "      <td>NaN</td>\n",
       "      <td>NaN</td>\n",
       "    </tr>\n",
       "    <tr>\n",
       "      <th>2013-01-01</th>\n",
       "      <td>1.617734</td>\n",
       "      <td>1.127121</td>\n",
       "      <td>0.388068</td>\n",
       "      <td>0.899362</td>\n",
       "      <td>-0.075116</td>\n",
       "    </tr>\n",
       "    <tr>\n",
       "      <th>2013-02-01</th>\n",
       "      <td>0.004274</td>\n",
       "      <td>-0.121472</td>\n",
       "      <td>-0.437631</td>\n",
       "      <td>0.492590</td>\n",
       "      <td>-0.418010</td>\n",
       "    </tr>\n",
       "    <tr>\n",
       "      <th>2013-03-01</th>\n",
       "      <td>0.729167</td>\n",
       "      <td>0.187392</td>\n",
       "      <td>-0.266676</td>\n",
       "      <td>-0.855080</td>\n",
       "      <td>0.694300</td>\n",
       "    </tr>\n",
       "    <tr>\n",
       "      <th>2013-04-01</th>\n",
       "      <td>0.390571</td>\n",
       "      <td>1.039498</td>\n",
       "      <td>-1.000979</td>\n",
       "      <td>0.242693</td>\n",
       "      <td>0.690022</td>\n",
       "    </tr>\n",
       "  </tbody>\n",
       "</table>\n",
       "</div>"
      ],
      "text/plain": [
       "                 SPY       AIG      AMZN       JPM         F\n",
       "Date                                                        \n",
       "2012-12-01       NaN       NaN       NaN       NaN       NaN\n",
       "2013-01-01  1.617734  1.127121  0.388068  0.899362 -0.075116\n",
       "2013-02-01  0.004274 -0.121472 -0.437631  0.492590 -0.418010\n",
       "2013-03-01  0.729167  0.187392 -0.266676 -0.855080  0.694300\n",
       "2013-04-01  0.390571  1.039498 -1.000979  0.242693  0.690022"
      ]
     },
     "execution_count": 72,
     "metadata": {},
     "output_type": "execute_result"
    }
   ],
   "source": [
    "# Question 3.4\n",
    "\n",
    "# Your Code here.\n",
    "\n",
    "# Calculate normalized returns\n",
    "norm_returns = (m_returns - m_returns.mean()) / m_returns.std()\n",
    "norm_returns.head()"
   ]
  },
  {
   "cell_type": "code",
   "execution_count": 73,
   "metadata": {},
   "outputs": [
    {
     "data": {
      "text/html": [
       "<div>\n",
       "<style scoped>\n",
       "    .dataframe tbody tr th:only-of-type {\n",
       "        vertical-align: middle;\n",
       "    }\n",
       "\n",
       "    .dataframe tbody tr th {\n",
       "        vertical-align: top;\n",
       "    }\n",
       "\n",
       "    .dataframe thead th {\n",
       "        text-align: right;\n",
       "    }\n",
       "</style>\n",
       "<table border=\"1\" class=\"dataframe\">\n",
       "  <thead>\n",
       "    <tr style=\"text-align: right;\">\n",
       "      <th></th>\n",
       "      <th>SPY</th>\n",
       "      <th>AIG</th>\n",
       "      <th>AMZN</th>\n",
       "      <th>JPM</th>\n",
       "      <th>F</th>\n",
       "    </tr>\n",
       "  </thead>\n",
       "  <tbody>\n",
       "    <tr>\n",
       "      <th>SPY</th>\n",
       "      <td>1.000000</td>\n",
       "      <td>0.606461</td>\n",
       "      <td>0.549188</td>\n",
       "      <td>0.556926</td>\n",
       "      <td>0.625750</td>\n",
       "    </tr>\n",
       "    <tr>\n",
       "      <th>AIG</th>\n",
       "      <td>0.606461</td>\n",
       "      <td>1.000000</td>\n",
       "      <td>0.349058</td>\n",
       "      <td>0.524451</td>\n",
       "      <td>0.491816</td>\n",
       "    </tr>\n",
       "    <tr>\n",
       "      <th>AMZN</th>\n",
       "      <td>0.549188</td>\n",
       "      <td>0.349058</td>\n",
       "      <td>1.000000</td>\n",
       "      <td>0.204424</td>\n",
       "      <td>0.335725</td>\n",
       "    </tr>\n",
       "    <tr>\n",
       "      <th>JPM</th>\n",
       "      <td>0.556926</td>\n",
       "      <td>0.524451</td>\n",
       "      <td>0.204424</td>\n",
       "      <td>1.000000</td>\n",
       "      <td>0.473898</td>\n",
       "    </tr>\n",
       "    <tr>\n",
       "      <th>F</th>\n",
       "      <td>0.625750</td>\n",
       "      <td>0.491816</td>\n",
       "      <td>0.335725</td>\n",
       "      <td>0.473898</td>\n",
       "      <td>1.000000</td>\n",
       "    </tr>\n",
       "  </tbody>\n",
       "</table>\n",
       "</div>"
      ],
      "text/plain": [
       "           SPY       AIG      AMZN       JPM         F\n",
       "SPY   1.000000  0.606461  0.549188  0.556926  0.625750\n",
       "AIG   0.606461  1.000000  0.349058  0.524451  0.491816\n",
       "AMZN  0.549188  0.349058  1.000000  0.204424  0.335725\n",
       "JPM   0.556926  0.524451  0.204424  1.000000  0.473898\n",
       "F     0.625750  0.491816  0.335725  0.473898  1.000000"
      ]
     },
     "execution_count": 73,
     "metadata": {},
     "output_type": "execute_result"
    }
   ],
   "source": [
    "# Question 3.5\n",
    "\n",
    "# Your Code here.\n",
    "\n",
    "# Calculate the correlation matrix\n",
    "norm_returns.corr()"
   ]
  },
  {
   "cell_type": "code",
   "execution_count": 74,
   "metadata": {},
   "outputs": [
    {
     "name": "stdout",
     "output_type": "stream",
     "text": [
      "Student's t-test results for SPY normalized returns and AIG normalized returns:\n",
      "Ttest_indResult(statistic=-2.660412100713552e-16, pvalue=0.9999999999999998)\n",
      "\n",
      "Student's t-test results for SPY normalized returns and AMZN normalized returns:\n",
      "Ttest_indResult(statistic=-5.194137910916934e-16, pvalue=0.9999999999999996)\n",
      "\n",
      "Student's t-test results for SPY normalized returns and JPM normalized returns:\n",
      "Ttest_indResult(statistic=-2.2296787129789765e-16, pvalue=0.9999999999999998)\n",
      "\n",
      "Student's t-test results for SPY normalized returns and F normalized returns:\n",
      "Ttest_indResult(statistic=-4.2313221030396485e-16, pvalue=0.9999999999999997)\n",
      "\n",
      "The null hypothesis such that the two means are equal cannot be rejected in any of the four test results.\n"
     ]
    }
   ],
   "source": [
    "# Question 3.6\n",
    "\n",
    "# Your Code here.\n",
    "\n",
    "#Perform a Student’s t-test\n",
    "\n",
    "# SPY and AIG\n",
    "print(\"Student's t-test results for SPY normalized returns and AIG normalized returns:\")\n",
    "print(stats.ttest_ind(norm_returns['SPY'].dropna(),norm_returns['AIG'].dropna()))\n",
    "print(\"\")\n",
    "\n",
    "# SPY and AMZN\n",
    "print(\"Student's t-test results for SPY normalized returns and AMZN normalized returns:\")\n",
    "print(stats.ttest_ind(norm_returns['SPY'].dropna(),norm_returns['AMZN'].dropna()))\n",
    "print(\"\")\n",
    "\n",
    "# SPY and JPM\n",
    "print(\"Student's t-test results for SPY normalized returns and JPM normalized returns:\")\n",
    "print(stats.ttest_ind(norm_returns['SPY'].dropna(),norm_returns['JPM'].dropna()))\n",
    "print(\"\")\n",
    "\n",
    "# SPY and F\n",
    "print(\"Student's t-test results for SPY normalized returns and F normalized returns:\")\n",
    "print(stats.ttest_ind(norm_returns['SPY'].dropna(),norm_returns['F'].dropna()))\n",
    "print(\"\")\n",
    "\n",
    "print(\"The null hypothesis such that the two means are equal cannot be rejected in any of the four test results.\")"
   ]
  },
  {
   "cell_type": "code",
   "execution_count": 75,
   "metadata": {},
   "outputs": [],
   "source": [
    "# Question 4.2\n",
    "\n",
    "# Load and clean data\n",
    "GS10 = pd.read_excel('GS10.xls',header = 0, index_col = 'observation_date', skiprows = 10)\n",
    "GS2 = pd.read_excel('GS2.xls', header = 0, index_col = 'observation_date', skiprows = 10)\n",
    "GDP = pd.read_excel('GDP.xls',header = 0, index_col = 'observation_date', skiprows = 10)\n",
    "\n",
    "GS10 = GS10.rename(columns = {'GS10':'10Y'})\n",
    "GS2 = GS2.rename(columns = {'GS2':'2Y'})\n",
    "GDP = GDP.rename(columns = {'A191RP1Q027SBEA':'GDP'})"
   ]
  },
  {
   "cell_type": "code",
   "execution_count": 76,
   "metadata": {},
   "outputs": [
    {
     "data": {
      "text/plain": [
       "<matplotlib.lines.Line2D at 0x29ad31feba8>"
      ]
     },
     "execution_count": 76,
     "metadata": {},
     "output_type": "execute_result"
    },
    {
     "data": {
      "image/png": "[encoded data removed]",
      "text/plain": [
       "<Figure size 432x288 with 1 Axes>"
      ]
     },
     "metadata": {
      "needs_background": "light"
     },
     "output_type": "display_data"
    }
   ],
   "source": [
    "# Question 4.2.a\n",
    "\n",
    "# Your Code here.\n",
    "\n",
    "# Create new dataframe for 10Y-2Y\n",
    "TR = pd.DataFrame(GS10['10Y']-GS2['2Y']).rename(columns = {0:'10Y-2Y'})\n",
    "\n",
    "# Plot time series data\n",
    "plot_data = pd.merge(TR,GDP,how='left',on='observation_date')\n",
    "plot_data['GDP'].fillna(method = 'ffill', inplace = True)\n",
    "plot_data = plot_data[plot_data['10Y-2Y'].isna()==False]\n",
    "plot_data.plot()\n",
    "plt.legend(labels = ['10Y-2Y','GDP Growth Rate'])\n",
    "plt.xlabel('Observation Date')\n",
    "plt.ylabel('Percent')\n",
    "plt.title('Time Series')\n",
    "plt.axhline(y=0, color='k', linewidth=1)"
   ]
  },
  {
   "cell_type": "code",
   "execution_count": 77,
   "metadata": {},
   "outputs": [],
   "source": [
    "# Question 4.2.b\n",
    "\n",
    "# Your Code here.\n",
    "\n",
    "#Create new dataframes for lagged GDP growth rate\n",
    "GDP_3m = pd.DataFrame(GDP['GDP'].shift(-1))\n",
    "GDP_6m = pd.DataFrame(GDP['GDP'].shift(-2))"
   ]
  },
  {
   "cell_type": "code",
   "execution_count": 78,
   "metadata": {},
   "outputs": [
    {
     "name": "stdout",
     "output_type": "stream",
     "text": [
      "Datapoints where 10Y-2Y < 0 and lagged GDP growth rate is negative are:\n"
     ]
    },
    {
     "data": {
      "text/html": [
       "<div>\n",
       "<style scoped>\n",
       "    .dataframe tbody tr th:only-of-type {\n",
       "        vertical-align: middle;\n",
       "    }\n",
       "\n",
       "    .dataframe tbody tr th {\n",
       "        vertical-align: top;\n",
       "    }\n",
       "\n",
       "    .dataframe thead th {\n",
       "        text-align: right;\n",
       "    }\n",
       "</style>\n",
       "<table border=\"1\" class=\"dataframe\">\n",
       "  <thead>\n",
       "    <tr style=\"text-align: right;\">\n",
       "      <th></th>\n",
       "      <th>10Y-2Y</th>\n",
       "      <th>GDP</th>\n",
       "    </tr>\n",
       "    <tr>\n",
       "      <th>observation_date</th>\n",
       "      <th></th>\n",
       "      <th></th>\n",
       "    </tr>\n",
       "  </thead>\n",
       "  <tbody>\n",
       "    <tr>\n",
       "      <th>1981-10-01</th>\n",
       "      <td>-0.39</td>\n",
       "      <td>-0.8</td>\n",
       "    </tr>\n",
       "  </tbody>\n",
       "</table>\n",
       "</div>"
      ],
      "text/plain": [
       "                  10Y-2Y  GDP\n",
       "observation_date             \n",
       "1981-10-01         -0.39 -0.8"
      ]
     },
     "execution_count": 78,
     "metadata": {},
     "output_type": "execute_result"
    }
   ],
   "source": [
    "# Create 3 month lag dataframe to plot\n",
    "plot_lag3 = pd.merge(TR,GDP_3m,how='left',on='observation_date')\n",
    "plot_lag3['GDP'].fillna(method = 'ffill', inplace = True)\n",
    "plot_lag3 = plot_lag3[plot_lag3['10Y-2Y'].isna()==False]\n",
    "\n",
    "# Datapoints where 10Y-2Y < 0 and GDP growth rate is negative\n",
    "print(\"Datapoints where 10Y-2Y < 0 and lagged GDP growth rate is negative are:\")\n",
    "plot_lag3[(plot_lag3['10Y-2Y'] < 0) & (plot_lag3['GDP'] < 0)]"
   ]
  },
  {
   "cell_type": "code",
   "execution_count": 79,
   "metadata": {},
   "outputs": [
    {
     "name": "stdout",
     "output_type": "stream",
     "text": [
      "Majority of the datapoints where 10Y-2Y < 0 have positive lagged GDP growth rates (see green dots).\n",
      "Only a few datapoints show the expected lead-lag relationship between inverted treasury rate and economic recession.\n"
     ]
    },
    {
     "data": {
      "image/png": "[encoded data removed]",
      "text/plain": [
       "<Figure size 432x288 with 1 Axes>"
      ]
     },
     "metadata": {
      "needs_background": "light"
     },
     "output_type": "display_data"
    }
   ],
   "source": [
    "# Plot time series data for 3 month lag relationship\n",
    "plt.plot(plot_lag3)\n",
    "plt.legend(labels = ['10Y-2Y','Lagged GDP Growth Rate'])\n",
    "plt.xlabel('Observation Date')\n",
    "plt.ylabel('Percent')\n",
    "plt.title('3 Month Lag Time Series')\n",
    "plt.axhline(y=0, color='k', linewidth=1)\n",
    "\n",
    "# Plot GDP for inverted treasury rate (green dots)\n",
    "plt.plot(plot_lag3[plot_lag3['10Y-2Y']<0]['GDP'],'og')\n",
    "print(\"Majority of the datapoints where 10Y-2Y < 0 have positive lagged GDP growth rates (see green dots).\")\n",
    "print(\"Only a few datapoints show the expected lead-lag relationship between inverted treasury rate and economic recession.\")"
   ]
  },
  {
   "cell_type": "code",
   "execution_count": 80,
   "metadata": {},
   "outputs": [
    {
     "data": {
      "text/plain": [
       "[<matplotlib.lines.Line2D at 0x29ad37444a8>]"
      ]
     },
     "execution_count": 80,
     "metadata": {},
     "output_type": "execute_result"
    },
    {
     "data": {
      "image/png": "[encoded data removed]",
      "text/plain": [
       "<Figure size 432x288 with 1 Axes>"
      ]
     },
     "metadata": {
      "needs_background": "light"
     },
     "output_type": "display_data"
    }
   ],
   "source": [
    "# Create scatterplot\n",
    "plot_lag3.plot('GDP','10Y-2Y',kind='scatter')\n",
    "plt.xlabel('Lagged GDP Growth Rate')\n",
    "plt.title('3 Month Lag')\n",
    "plt.axhline(y=0, color='k', linewidth=1)\n",
    "plt.axvline(x=0, color='k', linewidth=1)\n",
    "\n",
    "# Find the linear relationship between 10Y-2Y and 3 month-lagged GDP growth rate\n",
    "m1, b1, r1, p1, SE1 = stats.linregress(plot_lag3['GDP'],plot_lag3['10Y-2Y'])\n",
    "\n",
    "# Plot the result of linear regression\n",
    "xmin = plot_lag3['GDP'].min()\n",
    "xmax = plot_lag3['GDP'].max()\n",
    "plt.plot([xmin,xmax],[m1*xmin+b1,m1*xmax+b1],'-r')"
   ]
  },
  {
   "cell_type": "code",
   "execution_count": 81,
   "metadata": {},
   "outputs": [
    {
     "name": "stdout",
     "output_type": "stream",
     "text": [
      "Results of linear regression:\n",
      "Slope: -0.05488402798462269\n",
      "Intercept: 1.2773417523909956\n",
      "Correlation: -0.23215516643111858\n",
      "p-value: 1.078406062604614e-07\n",
      "Standard Error: 0.010182442597773933\n",
      "\n",
      "Unlike what was expected, the data does not show that inverted treasury rate has lead-lag relationship with negative GDP growth rate.\n",
      "There exists a negative linear relationship between 10Y-2Y and lagged GDP growth rate.\n",
      "This may be due to the influence of how the Fed responds to the yield curve and other key macroeconomic factors.\n"
     ]
    }
   ],
   "source": [
    "# Print results\n",
    "print(\"Results of linear regression:\")\n",
    "print(\"Slope: \" + str(m1))\n",
    "print(\"Intercept: \" + str(b1))\n",
    "print(\"Correlation: \" + str(r1))\n",
    "print(\"p-value: \" + str(p1))\n",
    "print(\"Standard Error: \" + str(SE1))\n",
    "print(\"\")\n",
    "print(\"Unlike what was expected, the data does not show that inverted treasury rate has lead-lag relationship with negative GDP growth rate.\") \n",
    "print(\"There exists a negative linear relationship between 10Y-2Y and lagged GDP growth rate.\")\n",
    "print(\"This may be due to the influence of how the Fed responds to the yield curve and other key macroeconomic factors.\")"
   ]
  },
  {
   "cell_type": "code",
   "execution_count": 82,
   "metadata": {},
   "outputs": [
    {
     "name": "stdout",
     "output_type": "stream",
     "text": [
      "Datapoints where 10Y-2Y < 0 and lagged GDP growth rate is negative are:\n"
     ]
    },
    {
     "data": {
      "text/html": [
       "<div>\n",
       "<style scoped>\n",
       "    .dataframe tbody tr th:only-of-type {\n",
       "        vertical-align: middle;\n",
       "    }\n",
       "\n",
       "    .dataframe tbody tr th {\n",
       "        vertical-align: top;\n",
       "    }\n",
       "\n",
       "    .dataframe thead th {\n",
       "        text-align: right;\n",
       "    }\n",
       "</style>\n",
       "<table border=\"1\" class=\"dataframe\">\n",
       "  <thead>\n",
       "    <tr style=\"text-align: right;\">\n",
       "      <th></th>\n",
       "      <th>10Y-2Y</th>\n",
       "      <th>GDP</th>\n",
       "    </tr>\n",
       "    <tr>\n",
       "      <th>observation_date</th>\n",
       "      <th></th>\n",
       "      <th></th>\n",
       "    </tr>\n",
       "  </thead>\n",
       "  <tbody>\n",
       "    <tr>\n",
       "      <th>1981-07-01</th>\n",
       "      <td>-1.07</td>\n",
       "      <td>-0.8</td>\n",
       "    </tr>\n",
       "    <tr>\n",
       "      <th>1981-08-01</th>\n",
       "      <td>-1.34</td>\n",
       "      <td>-0.8</td>\n",
       "    </tr>\n",
       "    <tr>\n",
       "      <th>1981-09-01</th>\n",
       "      <td>-1.14</td>\n",
       "      <td>-0.8</td>\n",
       "    </tr>\n",
       "  </tbody>\n",
       "</table>\n",
       "</div>"
      ],
      "text/plain": [
       "                  10Y-2Y  GDP\n",
       "observation_date             \n",
       "1981-07-01         -1.07 -0.8\n",
       "1981-08-01         -1.34 -0.8\n",
       "1981-09-01         -1.14 -0.8"
      ]
     },
     "execution_count": 82,
     "metadata": {},
     "output_type": "execute_result"
    }
   ],
   "source": [
    "# Create 6 month lag dataframe to plot\n",
    "plot_lag6 = pd.merge(TR,GDP_6m,how='left',on='observation_date')\n",
    "plot_lag6['GDP'].fillna(method = 'ffill', inplace = True)\n",
    "plot_lag6 = plot_lag6[plot_lag6['10Y-2Y'].isna() == False]\n",
    "\n",
    "# Datapoints where 10Y-2Y < 0 and GDP growth rate is negative\n",
    "print(\"Datapoints where 10Y-2Y < 0 and lagged GDP growth rate is negative are:\")\n",
    "plot_lag6[(plot_lag6['10Y-2Y'] < 0) & (plot_lag6['GDP'] < 0)]"
   ]
  },
  {
   "cell_type": "code",
   "execution_count": 83,
   "metadata": {},
   "outputs": [
    {
     "name": "stdout",
     "output_type": "stream",
     "text": [
      "Majority of the datapoints where 10Y-2Y < 0 have positive lagged GDP growth rates (see green dots).\n",
      "Only a few datapoints show the expected lead-lag relationship between inverted treasury rate and economic recession.\n"
     ]
    },
    {
     "data": {
      "image/png": "[encoded data removed]",
      "text/plain": [
       "<Figure size 432x288 with 1 Axes>"
      ]
     },
     "metadata": {
      "needs_background": "light"
     },
     "output_type": "display_data"
    }
   ],
   "source": [
    "# Plot time series data for 6 month lag relationship\n",
    "plt.plot(plot_lag6)\n",
    "plt.legend(labels = ['10Y-2Y','Lagged GDP Growth Rate'])\n",
    "plt.xlabel('Observation Date')\n",
    "plt.ylabel('Percent')\n",
    "plt.title('6 Month Lag Time Series')\n",
    "plt.axhline(y=0, color='k', linewidth=1)\n",
    "\n",
    "# Plot GDP for inverted treasury rate (green dots)\n",
    "plt.plot(plot_lag6[plot_lag6['10Y-2Y'] < 0]['GDP'],'og')\n",
    "print(\"Majority of the datapoints where 10Y-2Y < 0 have positive lagged GDP growth rates (see green dots).\")\n",
    "print(\"Only a few datapoints show the expected lead-lag relationship between inverted treasury rate and economic recession.\")"
   ]
  },
  {
   "cell_type": "code",
   "execution_count": 84,
   "metadata": {},
   "outputs": [
    {
     "data": {
      "text/plain": [
       "[<matplotlib.lines.Line2D at 0x29ad47f4358>]"
      ]
     },
     "execution_count": 84,
     "metadata": {},
     "output_type": "execute_result"
    },
    {
     "data": {
      "image/png": "[encoded data removed]",
      "text/plain": [
       "<Figure size 432x288 with 1 Axes>"
      ]
     },
     "metadata": {
      "needs_background": "light"
     },
     "output_type": "display_data"
    }
   ],
   "source": [
    "# Create scatterplot\n",
    "plot_lag6.plot('GDP','10Y-2Y',kind='scatter')\n",
    "plt.xlabel('Lagged GDP Growth Rate')\n",
    "plt.title('6 Month Lag')\n",
    "plt.axhline(y=0, color='k', linewidth=1)\n",
    "plt.axvline(x=0, color='k', linewidth=1)\n",
    "\n",
    "# Find the linear relationship between 10Y-2Y and 6 month-lagged GDP growth rate\n",
    "m2, b2, r2, p2, SE2 = stats.linregress(plot_lag6['GDP'],plot_lag6['10Y-2Y'])\n",
    "\n",
    "# Plot the result of linear regression\n",
    "xmin = plot_lag6['GDP'].min()\n",
    "xmax = plot_lag6['GDP'].max()\n",
    "plt.plot([xmin,xmax],[m2*xmin+b2,m2*xmax+b2],'-r')"
   ]
  },
  {
   "cell_type": "code",
   "execution_count": 85,
   "metadata": {},
   "outputs": [
    {
     "name": "stdout",
     "output_type": "stream",
     "text": [
      "Results of linear regression:\n",
      "Slope: -0.03693726753997923\n",
      "Intercept: 1.1700920383234867\n",
      "Correlation: -0.15581474766386047\n",
      "p-value: 0.0004020965138378486\n",
      "Standard Error: 0.01036893405762025\n",
      "\n",
      "Unlike what was expected, the data does not show that inverted treasury rate has lead-lag relationship with negative GDP growth rate.\n",
      "There exists a negative linear relationship between 10Y-2Y and lagged GDP growth rate.\n",
      "This may be due to the influence of how the Fed responds to the yield curve and other key macroeconomic factors.\n"
     ]
    }
   ],
   "source": [
    "# Print results\n",
    "print(\"Results of linear regression:\")\n",
    "print(\"Slope: \" + str(m2))\n",
    "print(\"Intercept: \" + str(b2))\n",
    "print(\"Correlation: \" + str(r2))\n",
    "print(\"p-value: \" + str(p2))\n",
    "print(\"Standard Error: \" + str(SE2))\n",
    "print(\"\")\n",
    "print(\"Unlike what was expected, the data does not show that inverted treasury rate has lead-lag relationship with negative GDP growth rate.\") \n",
    "print(\"There exists a negative linear relationship between 10Y-2Y and lagged GDP growth rate.\")\n",
    "print(\"This may be due to the influence of how the Fed responds to the yield curve and other key macroeconomic factors.\")\n"
   ]
  },
  {
   "cell_type": "code",
   "execution_count": 86,
   "metadata": {},
   "outputs": [
    {
     "name": "stdout",
     "output_type": "stream",
     "text": [
      "Datapoints where 10Y-2Y < 0 and lagged GDP growth rate is negative are:\n"
     ]
    },
    {
     "data": {
      "text/html": [
       "<div>\n",
       "<style scoped>\n",
       "    .dataframe tbody tr th:only-of-type {\n",
       "        vertical-align: middle;\n",
       "    }\n",
       "\n",
       "    .dataframe tbody tr th {\n",
       "        vertical-align: top;\n",
       "    }\n",
       "\n",
       "    .dataframe thead th {\n",
       "        text-align: right;\n",
       "    }\n",
       "</style>\n",
       "<table border=\"1\" class=\"dataframe\">\n",
       "  <thead>\n",
       "    <tr style=\"text-align: right;\">\n",
       "      <th></th>\n",
       "      <th>10Y-2Y</th>\n",
       "      <th>GDP</th>\n",
       "    </tr>\n",
       "    <tr>\n",
       "      <th>observation_date</th>\n",
       "      <th></th>\n",
       "      <th></th>\n",
       "    </tr>\n",
       "  </thead>\n",
       "  <tbody>\n",
       "    <tr>\n",
       "      <th>1981-01-01</th>\n",
       "      <td>-0.69</td>\n",
       "      <td>-0.8</td>\n",
       "    </tr>\n",
       "    <tr>\n",
       "      <th>1981-02-01</th>\n",
       "      <td>-0.73</td>\n",
       "      <td>-0.8</td>\n",
       "    </tr>\n",
       "    <tr>\n",
       "      <th>1981-03-01</th>\n",
       "      <td>-0.45</td>\n",
       "      <td>-0.8</td>\n",
       "    </tr>\n",
       "    <tr>\n",
       "      <th>2000-07-01</th>\n",
       "      <td>-0.29</td>\n",
       "      <td>-0.1</td>\n",
       "    </tr>\n",
       "    <tr>\n",
       "      <th>2000-08-01</th>\n",
       "      <td>-0.40</td>\n",
       "      <td>-0.1</td>\n",
       "    </tr>\n",
       "    <tr>\n",
       "      <th>2000-09-01</th>\n",
       "      <td>-0.28</td>\n",
       "      <td>-0.1</td>\n",
       "    </tr>\n",
       "    <tr>\n",
       "      <th>2007-01-01</th>\n",
       "      <td>-0.12</td>\n",
       "      <td>-0.8</td>\n",
       "    </tr>\n",
       "    <tr>\n",
       "      <th>2007-02-01</th>\n",
       "      <td>-0.13</td>\n",
       "      <td>-0.8</td>\n",
       "    </tr>\n",
       "    <tr>\n",
       "      <th>2007-03-01</th>\n",
       "      <td>-0.01</td>\n",
       "      <td>-0.8</td>\n",
       "    </tr>\n",
       "  </tbody>\n",
       "</table>\n",
       "</div>"
      ],
      "text/plain": [
       "                  10Y-2Y  GDP\n",
       "observation_date             \n",
       "1981-01-01         -0.69 -0.8\n",
       "1981-02-01         -0.73 -0.8\n",
       "1981-03-01         -0.45 -0.8\n",
       "2000-07-01         -0.29 -0.1\n",
       "2000-08-01         -0.40 -0.1\n",
       "2000-09-01         -0.28 -0.1\n",
       "2007-01-01         -0.12 -0.8\n",
       "2007-02-01         -0.13 -0.8\n",
       "2007-03-01         -0.01 -0.8"
      ]
     },
     "execution_count": 86,
     "metadata": {},
     "output_type": "execute_result"
    }
   ],
   "source": [
    "# Try the same thing for 1 year lagged GDP growth rate\n",
    "GDP_1y = pd.DataFrame(GDP['GDP'].shift(-4))\n",
    "\n",
    "# Create 1 year lag dataframe to plot\n",
    "plot_lag1y = pd.merge(TR,GDP_1y,how='left',on='observation_date')\n",
    "plot_lag1y['GDP'].fillna(method = 'ffill', inplace = True)\n",
    "plot_lag1y = plot_lag1y[plot_lag1y['10Y-2Y'].isna() == False]\n",
    "\n",
    "# Datapoints where 10Y-2Y < 0 and GDP growth rate is negative\n",
    "print(\"Datapoints where 10Y-2Y < 0 and lagged GDP growth rate is negative are:\")\n",
    "plot_lag1y[(plot_lag1y['10Y-2Y'] < 0) & (plot_lag1y['GDP'] < 0)]"
   ]
  },
  {
   "cell_type": "code",
   "execution_count": 101,
   "metadata": {},
   "outputs": [
    {
     "data": {
      "text/plain": [
       "[<matplotlib.lines.Line2D at 0x29ad485e358>]"
      ]
     },
     "execution_count": 101,
     "metadata": {},
     "output_type": "execute_result"
    },
    {
     "data": {
      "image/png": "[encoded data removed]",
      "text/plain": [
       "<Figure size 432x288 with 1 Axes>"
      ]
     },
     "metadata": {
      "needs_background": "light"
     },
     "output_type": "display_data"
    }
   ],
   "source": [
    "# Plot time series data for 1 year lag relationship\n",
    "plt.plot(plot_lag1y)\n",
    "plt.legend(labels = ['10Y-2Y','Lagged GDP Growth Rate'])\n",
    "plt.xlabel('Observation Date')\n",
    "plt.ylabel('Percent')\n",
    "plt.title('1 Year Lag Time Series')\n",
    "plt.axhline(y=0, color='k', linewidth=1)\n",
    "\n",
    "# Plot GDP for inverted treasury rate (green dots)\n",
    "plt.plot(plot_lag1y[plot_lag1y['10Y-2Y'] < 0]['GDP'],'og')"
   ]
  },
  {
   "cell_type": "code",
   "execution_count": 105,
   "metadata": {},
   "outputs": [
    {
     "name": "stdout",
     "output_type": "stream",
     "text": [
      "Datapoints where 10Y-2Y < 0 and lagged GDP growth rate is negative are:\n"
     ]
    },
    {
     "data": {
      "text/html": [
       "<div>\n",
       "<style scoped>\n",
       "    .dataframe tbody tr th:only-of-type {\n",
       "        vertical-align: middle;\n",
       "    }\n",
       "\n",
       "    .dataframe tbody tr th {\n",
       "        vertical-align: top;\n",
       "    }\n",
       "\n",
       "    .dataframe thead th {\n",
       "        text-align: right;\n",
       "    }\n",
       "</style>\n",
       "<table border=\"1\" class=\"dataframe\">\n",
       "  <thead>\n",
       "    <tr style=\"text-align: right;\">\n",
       "      <th></th>\n",
       "      <th>10Y-2Y</th>\n",
       "      <th>GDP</th>\n",
       "    </tr>\n",
       "    <tr>\n",
       "      <th>observation_date</th>\n",
       "      <th></th>\n",
       "      <th></th>\n",
       "    </tr>\n",
       "  </thead>\n",
       "  <tbody>\n",
       "    <tr>\n",
       "      <th>1980-01-01</th>\n",
       "      <td>-0.70</td>\n",
       "      <td>-0.8</td>\n",
       "    </tr>\n",
       "    <tr>\n",
       "      <th>1980-02-01</th>\n",
       "      <td>-1.01</td>\n",
       "      <td>-0.8</td>\n",
       "    </tr>\n",
       "    <tr>\n",
       "      <th>1980-03-01</th>\n",
       "      <td>-2.13</td>\n",
       "      <td>-0.8</td>\n",
       "    </tr>\n",
       "    <tr>\n",
       "      <th>2006-02-01</th>\n",
       "      <td>-0.10</td>\n",
       "      <td>-0.8</td>\n",
       "    </tr>\n",
       "    <tr>\n",
       "      <th>2006-03-01</th>\n",
       "      <td>-0.01</td>\n",
       "      <td>-0.8</td>\n",
       "    </tr>\n",
       "    <tr>\n",
       "      <th>2006-10-01</th>\n",
       "      <td>-0.07</td>\n",
       "      <td>-7.2</td>\n",
       "    </tr>\n",
       "    <tr>\n",
       "      <th>2006-11-01</th>\n",
       "      <td>-0.14</td>\n",
       "      <td>-7.2</td>\n",
       "    </tr>\n",
       "    <tr>\n",
       "      <th>2006-12-01</th>\n",
       "      <td>-0.11</td>\n",
       "      <td>-7.2</td>\n",
       "    </tr>\n",
       "    <tr>\n",
       "      <th>2007-01-01</th>\n",
       "      <td>-0.12</td>\n",
       "      <td>-4.5</td>\n",
       "    </tr>\n",
       "    <tr>\n",
       "      <th>2007-02-01</th>\n",
       "      <td>-0.13</td>\n",
       "      <td>-4.5</td>\n",
       "    </tr>\n",
       "    <tr>\n",
       "      <th>2007-03-01</th>\n",
       "      <td>-0.01</td>\n",
       "      <td>-4.5</td>\n",
       "    </tr>\n",
       "    <tr>\n",
       "      <th>2007-05-01</th>\n",
       "      <td>-0.02</td>\n",
       "      <td>-1.2</td>\n",
       "    </tr>\n",
       "  </tbody>\n",
       "</table>\n",
       "</div>"
      ],
      "text/plain": [
       "                  10Y-2Y  GDP\n",
       "observation_date             \n",
       "1980-01-01         -0.70 -0.8\n",
       "1980-02-01         -1.01 -0.8\n",
       "1980-03-01         -2.13 -0.8\n",
       "2006-02-01         -0.10 -0.8\n",
       "2006-03-01         -0.01 -0.8\n",
       "2006-10-01         -0.07 -7.2\n",
       "2006-11-01         -0.14 -7.2\n",
       "2006-12-01         -0.11 -7.2\n",
       "2007-01-01         -0.12 -4.5\n",
       "2007-02-01         -0.13 -4.5\n",
       "2007-03-01         -0.01 -4.5\n",
       "2007-05-01         -0.02 -1.2"
      ]
     },
     "execution_count": 105,
     "metadata": {},
     "output_type": "execute_result"
    }
   ],
   "source": [
    "# Try the same thing for 2 year lagged GDP growth rate\n",
    "GDP_2y = pd.DataFrame(GDP['GDP'].shift(-8))\n",
    "\n",
    "# Create 2 year month lag dataframe to plot\n",
    "plot_lag2y = pd.merge(TR,GDP_2y,how='left',on='observation_date')\n",
    "plot_lag2y['GDP'].fillna(method = 'ffill', inplace = True)\n",
    "plot_lag2y = plot_lag2y[plot_lag2y['10Y-2Y'].isna() == False]\n",
    "\n",
    "# Datapoints where 10Y-2Y < 0 and GDP growth rate is negative\n",
    "print(\"Datapoints where 10Y-2Y < 0 and lagged GDP growth rate is negative are:\")\n",
    "plot_lag2y[(plot_lag2y['10Y-2Y'] < 0) & (plot_lag2y['GDP'] < 0)]"
   ]
  },
  {
   "cell_type": "code",
   "execution_count": 103,
   "metadata": {},
   "outputs": [
    {
     "data": {
      "text/plain": [
       "[<matplotlib.lines.Line2D at 0x29ad494d400>]"
      ]
     },
     "execution_count": 103,
     "metadata": {},
     "output_type": "execute_result"
    },
    {
     "data": {
      "image/png": "[encoded data removed]",
      "text/plain": [
       "<Figure size 432x288 with 1 Axes>"
      ]
     },
     "metadata": {
      "needs_background": "light"
     },
     "output_type": "display_data"
    }
   ],
   "source": [
    "# Plot time series data for 2 year lag relationship\n",
    "plt.plot(plot_lag2y)\n",
    "plt.legend(labels = ['10Y-2Y','Lagged GDP Growth Rate'])\n",
    "plt.xlabel('Observation Date')\n",
    "plt.ylabel('Percent')\n",
    "plt.title('2 Year Lag Time Series')\n",
    "plt.axhline(y=0, color='k', linewidth=1)\n",
    "\n",
    "# Plot GDP for inverted treasury rate (green dots)\n",
    "plt.plot(plot_lag2y[plot_lag2y['10Y-2Y'] < 0]['GDP'],'og')"
   ]
  },
  {
   "cell_type": "code",
   "execution_count": 104,
   "metadata": {},
   "outputs": [
    {
     "name": "stdout",
     "output_type": "stream",
     "text": [
      "While still majority of the datapoints where 10Y-2Y < 0 have positive lagged GDP growth rates for 1 year and 2 year lag relationship, more such datapoints exist.\n",
      "The unexpected results for 3 month and 6 month lag relationships may partly be because the lag time was not enough.\n"
     ]
    }
   ],
   "source": [
    "print(\"While still majority of the datapoints where 10Y-2Y < 0 have positive lagged GDP growth rates for 1 year and 2 year lag relationship, more such datapoints exist.\")\n",
    "print(\"The unexpected results for 3 month and 6 month lag relationships may partly be because in real economy a few months of lag time was not enough to capture the lead-lag relationship.\")"
   ]
  },
  {
   "cell_type": "code",
   "execution_count": null,
   "metadata": {},
   "outputs": [],
   "source": []
  }
 ],
 "metadata": {
  "kernelspec": {
   "display_name": "Python 3",
   "language": "python",
   "name": "python3"
  },
  "language_info": {
   "codemirror_mode": {
    "name": "ipython",
    "version": 3
   },
   "file_extension": ".py",
   "mimetype": "text/x-python",
   "name": "python",
   "nbconvert_exporter": "python",
   "pygments_lexer": "ipython3",
   "version": "3.7.1"
  }
 },
 "nbformat": 4,
 "nbformat_minor": 2
}
